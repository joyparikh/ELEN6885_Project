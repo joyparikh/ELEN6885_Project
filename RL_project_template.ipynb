{
  "nbformat": 4,
  "nbformat_minor": 0,
  "metadata": {
    "colab": {
      "name": "RL_project_template.ipynb",
      "provenance": [],
      "collapsed_sections": []
    },
    "kernelspec": {
      "name": "python3",
      "display_name": "Python 3"
    },
    "language_info": {
      "name": "python"
    }
  },
  "cells": [
    {
      "cell_type": "code",
      "source": [
        "# Run the following command to install our version of the environment\n",
        "!pip install git+https://github.com/joyparikh/ELEN6885_Project\n",
        "\n",
        "# Run the following to get baselines installed directly from the source (doing a pip install runs into some mujoco-py related error)\n",
        "!pip install git+https://github.com/openai/baselines"
      ],
      "metadata": {
        "colab": {
          "base_uri": "https://localhost:8080/",
          "height": 936
        },
        "id": "cd73Z2tHkHWt",
        "outputId": "0dfa95a4-53cf-4cb2-8c5f-9b12e29afcc8"
      },
      "execution_count": null,
      "outputs": [
        {
          "output_type": "stream",
          "name": "stdout",
          "text": [
            "Collecting git+https://github.com/joyparikh/ELEN6885_Project\n",
            "  Cloning https://github.com/joyparikh/ELEN6885_Project to /tmp/pip-req-build-s6rvlea0\n",
            "  Running command git clone -q https://github.com/joyparikh/ELEN6885_Project /tmp/pip-req-build-s6rvlea0\n",
            "Requirement already satisfied: gym in /usr/local/lib/python3.7/dist-packages (from gym-Rubiks-Cube==0.0.1) (0.17.3)\n",
            "Requirement already satisfied: termcolor in /usr/local/lib/python3.7/dist-packages (from gym-Rubiks-Cube==0.0.1) (1.1.0)\n",
            "Requirement already satisfied: cloudpickle<1.7.0,>=1.2.0 in /usr/local/lib/python3.7/dist-packages (from gym->gym-Rubiks-Cube==0.0.1) (1.3.0)\n",
            "Requirement already satisfied: scipy in /usr/local/lib/python3.7/dist-packages (from gym->gym-Rubiks-Cube==0.0.1) (1.4.1)\n",
            "Requirement already satisfied: pyglet<=1.5.0,>=1.4.0 in /usr/local/lib/python3.7/dist-packages (from gym->gym-Rubiks-Cube==0.0.1) (1.5.0)\n",
            "Requirement already satisfied: numpy>=1.10.4 in /usr/local/lib/python3.7/dist-packages (from gym->gym-Rubiks-Cube==0.0.1) (1.19.5)\n",
            "Requirement already satisfied: future in /usr/local/lib/python3.7/dist-packages (from pyglet<=1.5.0,>=1.4.0->gym->gym-Rubiks-Cube==0.0.1) (0.16.0)\n",
            "Collecting git+https://github.com/openai/baselines\n",
            "  Cloning https://github.com/openai/baselines to /tmp/pip-req-build-sdc0dccv\n",
            "  Running command git clone -q https://github.com/openai/baselines /tmp/pip-req-build-sdc0dccv\n",
            "Collecting gym<0.16.0,>=0.15.4\n",
            "  Downloading gym-0.15.7.tar.gz (1.6 MB)\n",
            "\u001b[K     |████████████████████████████████| 1.6 MB 16.8 MB/s \n",
            "\u001b[?25hRequirement already satisfied: scipy in /usr/local/lib/python3.7/dist-packages (from baselines==0.1.6) (1.4.1)\n",
            "Requirement already satisfied: tqdm in /usr/local/lib/python3.7/dist-packages (from baselines==0.1.6) (4.62.3)\n",
            "Requirement already satisfied: joblib in /usr/local/lib/python3.7/dist-packages (from baselines==0.1.6) (1.1.0)\n",
            "Requirement already satisfied: cloudpickle in /usr/local/lib/python3.7/dist-packages (from baselines==0.1.6) (1.3.0)\n",
            "Requirement already satisfied: click in /usr/local/lib/python3.7/dist-packages (from baselines==0.1.6) (7.1.2)\n",
            "Requirement already satisfied: opencv-python in /usr/local/lib/python3.7/dist-packages (from baselines==0.1.6) (4.1.2.30)\n",
            "Requirement already satisfied: numpy>=1.10.4 in /usr/local/lib/python3.7/dist-packages (from gym<0.16.0,>=0.15.4->baselines==0.1.6) (1.19.5)\n",
            "Requirement already satisfied: six in /usr/local/lib/python3.7/dist-packages (from gym<0.16.0,>=0.15.4->baselines==0.1.6) (1.15.0)\n",
            "Requirement already satisfied: pyglet<=1.5.0,>=1.4.0 in /usr/local/lib/python3.7/dist-packages (from gym<0.16.0,>=0.15.4->baselines==0.1.6) (1.5.0)\n",
            "Collecting cloudpickle\n",
            "  Downloading cloudpickle-1.2.2-py2.py3-none-any.whl (25 kB)\n",
            "Requirement already satisfied: future in /usr/local/lib/python3.7/dist-packages (from pyglet<=1.5.0,>=1.4.0->gym<0.16.0,>=0.15.4->baselines==0.1.6) (0.16.0)\n",
            "Building wheels for collected packages: baselines, gym\n",
            "  Building wheel for baselines (setup.py) ... \u001b[?25l\u001b[?25hdone\n",
            "  Created wheel for baselines: filename=baselines-0.1.6-py3-none-any.whl size=220679 sha256=c653793a5edb45b102d4efa999c0681601050d30c0273a16ff852ec00c02e5f6\n",
            "  Stored in directory: /tmp/pip-ephem-wheel-cache-xwpgcdfc/wheels/41/17/80/40e2fcc1cdfae9b65dbdd5412b9ae19ce5ed1cea1881c6317f\n",
            "  Building wheel for gym (setup.py) ... \u001b[?25l\u001b[?25hdone\n",
            "  Created wheel for gym: filename=gym-0.15.7-py3-none-any.whl size=1648840 sha256=96fa8c10ee2eefc8b6d93edc1fd39d9ad147773303b1cceac5e702a0770d6fee\n",
            "  Stored in directory: /root/.cache/pip/wheels/be/72/05/d3dfcfc2a31bbf886112b6373881bdf2e9e00d2c943f3b4f91\n",
            "Successfully built baselines gym\n",
            "Installing collected packages: cloudpickle, gym, baselines\n",
            "  Attempting uninstall: cloudpickle\n",
            "    Found existing installation: cloudpickle 1.3.0\n",
            "    Uninstalling cloudpickle-1.3.0:\n",
            "      Successfully uninstalled cloudpickle-1.3.0\n",
            "  Attempting uninstall: gym\n",
            "    Found existing installation: gym 0.17.3\n",
            "    Uninstalling gym-0.17.3:\n",
            "      Successfully uninstalled gym-0.17.3\n",
            "\u001b[31mERROR: pip's dependency resolver does not currently take into account all the packages that are installed. This behaviour is the source of the following dependency conflicts.\n",
            "tensorflow-probability 0.15.0 requires cloudpickle>=1.3, but you have cloudpickle 1.2.2 which is incompatible.\u001b[0m\n",
            "Successfully installed baselines-0.1.6 cloudpickle-1.2.2 gym-0.15.7\n"
          ]
        },
        {
          "output_type": "display_data",
          "data": {
            "application/vnd.colab-display-data+json": {
              "pip_warning": {
                "packages": [
                  "cloudpickle",
                  "gym"
                ]
              }
            }
          },
          "metadata": {}
        }
      ]
    },
    {
      "cell_type": "code",
      "execution_count": null,
      "metadata": {
        "colab": {
          "base_uri": "https://localhost:8080/"
        },
        "id": "GXaoil-IgBf-",
        "outputId": "e5519570-1f1f-4478-f9f4-7690407c8d17"
      },
      "outputs": [
        {
          "output_type": "stream",
          "name": "stdout",
          "text": [
            "TensorFlow 1.x selected.\n",
            "[4 3 0 0 4 3 1 1 1 1 4 3 0 0 4 3 5 2 5 2 2 2 5 5]\n",
            "      \u001b[5m\u001b[7m\u001b[37m + \u001b[0m\u001b[5m\u001b[7m\u001b[33m + \u001b[0m            \n",
            "      \u001b[5m\u001b[7m\u001b[37m + \u001b[0m\u001b[5m\u001b[7m\u001b[33m + \u001b[0m            \n",
            "\u001b[5m\u001b[7m\u001b[31m + \u001b[0m\u001b[5m\u001b[7m\u001b[31m + \u001b[0m\u001b[5m\u001b[7m\u001b[34m + \u001b[0m\u001b[5m\u001b[7m\u001b[32m + \u001b[0m\u001b[5m\u001b[7m\u001b[35m + \u001b[0m\u001b[5m\u001b[7m\u001b[35m + \u001b[0m\u001b[5m\u001b[7m\u001b[34m + \u001b[0m\u001b[5m\u001b[7m\u001b[32m + \u001b[0m\n",
            "\u001b[5m\u001b[7m\u001b[34m + \u001b[0m\u001b[5m\u001b[7m\u001b[32m + \u001b[0m\u001b[5m\u001b[7m\u001b[31m + \u001b[0m\u001b[5m\u001b[7m\u001b[31m + \u001b[0m\u001b[5m\u001b[7m\u001b[34m + \u001b[0m\u001b[5m\u001b[7m\u001b[32m + \u001b[0m\u001b[5m\u001b[7m\u001b[35m + \u001b[0m\u001b[5m\u001b[7m\u001b[35m + \u001b[0m\n",
            "      \u001b[5m\u001b[7m\u001b[33m + \u001b[0m\u001b[5m\u001b[7m\u001b[33m + \u001b[0m            \n",
            "      \u001b[5m\u001b[7m\u001b[37m + \u001b[0m\u001b[5m\u001b[7m\u001b[37m + \u001b[0m            \n",
            "\n",
            "      \u001b[5m\u001b[7m\u001b[37m + \u001b[0m\u001b[5m\u001b[7m\u001b[34m + \u001b[0m            \n",
            "      \u001b[5m\u001b[7m\u001b[32m + \u001b[0m\u001b[5m\u001b[7m\u001b[32m + \u001b[0m            \n",
            "\u001b[5m\u001b[7m\u001b[31m + \u001b[0m\u001b[5m\u001b[7m\u001b[33m + \u001b[0m\u001b[5m\u001b[7m\u001b[31m + \u001b[0m\u001b[5m\u001b[7m\u001b[35m + \u001b[0m\u001b[5m\u001b[7m\u001b[33m + \u001b[0m\u001b[5m\u001b[7m\u001b[37m + \u001b[0m\u001b[5m\u001b[7m\u001b[31m + \u001b[0m\u001b[5m\u001b[7m\u001b[32m + \u001b[0m\n",
            "\u001b[5m\u001b[7m\u001b[34m + \u001b[0m\u001b[5m\u001b[7m\u001b[33m + \u001b[0m\u001b[5m\u001b[7m\u001b[31m + \u001b[0m\u001b[5m\u001b[7m\u001b[37m + \u001b[0m\u001b[5m\u001b[7m\u001b[32m + \u001b[0m\u001b[5m\u001b[7m\u001b[35m + \u001b[0m\u001b[5m\u001b[7m\u001b[33m + \u001b[0m\u001b[5m\u001b[7m\u001b[35m + \u001b[0m\n",
            "      \u001b[5m\u001b[7m\u001b[34m + \u001b[0m\u001b[5m\u001b[7m\u001b[35m + \u001b[0m            \n",
            "      \u001b[5m\u001b[7m\u001b[37m + \u001b[0m\u001b[5m\u001b[7m\u001b[34m + \u001b[0m            \n",
            "\n"
          ]
        }
      ],
      "source": [
        "# Baselines works on tf 1.x so shift colab default tf to 1.x\n",
        "%tensorflow_version 1.x\n",
        "\n",
        "# Import the gym and rubiks cube environment for gym\n",
        "import gym\n",
        "import gym_Rubiks_Cube\n",
        "\n",
        "# Make the environment, replace 2x2 with 4x4. Or remove 2x2 for the normal 3x3 version\n",
        "env = gym.make(\"RubiksCube2x2-v0\")\n",
        "\n",
        "# Checkk environment\n",
        "print(env.reset()) # scramble status\n",
        "env.render()\n",
        "env.step(0) # action 0~11\n",
        "env.step(1) # action 0~11\n",
        "env.render()"
      ]
    }
  ]
}